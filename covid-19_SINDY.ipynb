{
 "cells": [
  {
   "cell_type": "markdown",
   "metadata": {},
   "source": [
    "## Install PySINDy via git"
   ]
  },
  {
   "cell_type": "code",
   "execution_count": 1,
   "metadata": {
    "colab": {
     "base_uri": "https://localhost:8080/",
     "height": 162
    },
    "colab_type": "code",
    "id": "pkA0JhCievVx",
    "outputId": "41febea8-415a-414b-fdd8-ea25e4d059a2"
   },
   "outputs": [
    {
     "name": "stdout",
     "output_type": "stream",
     "text": [
      "Cloning into 'pySINDy'...\n",
      "remote: Enumerating objects: 17, done.\u001b[K\n",
      "remote: Counting objects: 100% (17/17), done.\u001b[K\n",
      "remote: Compressing objects: 100% (17/17), done.\u001b[K\n",
      "remote: Total 16787 (delta 5), reused 2 (delta 0), pack-reused 16770\u001b[K\n",
      "Receiving objects: 100% (16787/16787), 94.14 MiB | 1.36 MiB/s, done.\n",
      "Resolving deltas: 100% (3019/3019), done.\n",
      "Checking out files: 100% (14406/14406), done.\n"
     ]
    }
   ],
   "source": [
    "!git clone https://github.com/luckystarufo/pySINDy.git"
   ]
  },
  {
   "cell_type": "code",
   "execution_count": 2,
   "metadata": {
    "colab": {
     "base_uri": "https://localhost:8080/",
     "height": 35
    },
    "colab_type": "code",
    "id": "kpEsKcwMfF1s",
    "outputId": "15ebf2de-807f-40eb-95f0-141b40e1c4b2"
   },
   "outputs": [
    {
     "name": "stdout",
     "output_type": "stream",
     "text": [
      "covid-19_SINDY.ipynb  imgs  pySINDy  README.md\r\n"
     ]
    }
   ],
   "source": [
    "!ls"
   ]
  },
  {
   "cell_type": "code",
   "execution_count": 3,
   "metadata": {
    "colab": {
     "base_uri": "https://localhost:8080/",
     "height": 35
    },
    "colab_type": "code",
    "id": "MpDi8zkRe_9X",
    "outputId": "c995fa1e-ea55-4e5b-e9aa-d138707285f7"
   },
   "outputs": [
    {
     "name": "stdout",
     "output_type": "stream",
     "text": [
      "/home/gniz/work/projects/DataLab/ML/Covid19/code/COVID-19-SINDY/pySINDy\n"
     ]
    }
   ],
   "source": [
    "%cd pySINDy"
   ]
  },
  {
   "cell_type": "code",
   "execution_count": 5,
   "metadata": {
    "colab": {
     "base_uri": "https://localhost:8080/",
     "height": 273
    },
    "colab_type": "code",
    "id": "CLbiUHITfCJs",
    "outputId": "a6f91096-3178-41ed-db62-7cf855d92839"
   },
   "outputs": [
    {
     "name": "stdout",
     "output_type": "stream",
     "text": [
      "/bin/sh: 1: pip3: not found\r\n"
     ]
    }
   ],
   "source": [
    "!pip install -e ."
   ]
  },
  {
   "cell_type": "markdown",
   "metadata": {},
   "source": [
    "## Import modules and packages"
   ]
  },
  {
   "cell_type": "code",
   "execution_count": 7,
   "metadata": {
    "colab": {},
    "colab_type": "code",
    "id": "SYwFfqw_evZE"
   },
   "outputs": [],
   "source": [
    "from pySINDy.sindy import SINDy\n",
    "import numpy as np\n",
    "import pandas as pd\n",
    "from scipy.integrate import odeint\n",
    "import matplotlib.pyplot as plt"
   ]
  },
  {
   "cell_type": "markdown",
   "metadata": {},
   "source": [
    "### Retrieve training data from https://github.com/CSSEGISandData/COVID-19\n",
    "\n",
    "The following cells download csvs from CSSEGISandData/COVID-19 repo.\n",
    "\n",
    "Time-series records in Hubei will be used as training data"
   ]
  },
  {
   "cell_type": "code",
   "execution_count": 8,
   "metadata": {
    "colab": {},
    "colab_type": "code",
    "id": "C7a3V9c1evcT"
   },
   "outputs": [],
   "source": [
    "df_train_c = pd.read_csv(\"https://github.com/CSSEGISandData/COVID-19/raw/master/csse_covid_19_data/csse_covid_19_time_series/time_series_19-covid-Confirmed.csv\")\n",
    "df_train_d = pd.read_csv(\"https://github.com/CSSEGISandData/COVID-19/raw/master/csse_covid_19_data/csse_covid_19_time_series/time_series_19-covid-Deaths.csv\")\n",
    "df_train_r = pd.read_csv(\"https://github.com/CSSEGISandData/COVID-19/raw/master/csse_covid_19_data/csse_covid_19_time_series/time_series_19-covid-Recovered.csv\")"
   ]
  },
  {
   "cell_type": "code",
   "execution_count": 9,
   "metadata": {
    "colab": {},
    "colab_type": "code",
    "id": "agAhNVVpevix"
   },
   "outputs": [],
   "source": [
    "xc = df_train_c[df_train_c[\"Province/State\"] == \"Hubei\"].values[0, 4:]\n",
    "xd = df_train_d[df_train_d[\"Province/State\"] == \"Hubei\"].values[0, 4:]\n",
    "xr = df_train_r[df_train_r[\"Province/State\"] == \"Hubei\"].values[0, 4:]"
   ]
  },
  {
   "cell_type": "code",
   "execution_count": 10,
   "metadata": {
    "colab": {},
    "colab_type": "code",
    "id": "GHhoS5OjevrT"
   },
   "outputs": [],
   "source": [
    "x_train = np.concatenate(\n",
    "    [\n",
    "     xc[None, ...],\n",
    "     xr[None, ...],\n",
    "     xd[None, ...]\n",
    "    ],\n",
    "    axis=0\n",
    ").astype(np.float32)"
   ]
  },
  {
   "cell_type": "markdown",
   "metadata": {},
   "source": [
    "### Visusalize training data (Hubei)"
   ]
  },
  {
   "cell_type": "code",
   "execution_count": 11,
   "metadata": {
    "colab": {
     "base_uri": "https://localhost:8080/",
     "height": 284
    },
    "colab_type": "code",
    "id": "YvALDkUVevn8",
    "outputId": "5b8c7651-3c27-4739-c285-c33b6eb58dad"
   },
   "outputs": [
    {
     "data": {
      "text/plain": [
       "<matplotlib.legend.Legend at 0x7fed3c032710>"
      ]
     },
     "execution_count": 11,
     "metadata": {},
     "output_type": "execute_result"
    },
    {
     "data": {
      "image/png": "[encoded data removed]",
      "text/plain": [
       "<Figure size 432x288 with 1 Axes>"
      ]
     },
     "metadata": {
      "needs_background": "light"
     },
     "output_type": "display_data"
    }
   ],
   "source": [
    "plt.plot(x_train.T)\n",
    "plt.grid()\n",
    "plt.legend([\"confirmed\", \"death\", \"recovered\"])"
   ]
  },
  {
   "cell_type": "markdown",
   "metadata": {},
   "source": [
    "## Create SINDY model"
   ]
  },
  {
   "cell_type": "code",
   "execution_count": 12,
   "metadata": {
    "colab": {},
    "colab_type": "code",
    "id": "EmdttiVIevlv"
   },
   "outputs": [],
   "source": [
    "model = SINDy(name='covid-19')"
   ]
  },
  {
   "cell_type": "markdown",
   "metadata": {},
   "source": [
    "### Fit on training data"
   ]
  },
  {
   "cell_type": "code",
   "execution_count": 13,
   "metadata": {
    "colab": {
     "base_uri": "https://localhost:8080/",
     "height": 35
    },
    "colab_type": "code",
    "id": "9TfXp8Wqevgo",
    "outputId": "702cc8ef-fe81-48ad-a4ed-e200cdf1c81a"
   },
   "outputs": [
    {
     "data": {
      "text/plain": [
       "<pySINDy.sindy.SINDy at 0x7fed408523c8>"
      ]
     },
     "execution_count": 13,
     "metadata": {},
     "output_type": "execute_result"
    }
   ],
   "source": [
    "model.fit(x_train, 1, poly_degree=2, cut_off=1e-3)"
   ]
  },
  {
   "cell_type": "code",
   "execution_count": 14,
   "metadata": {
    "colab": {
     "base_uri": "https://localhost:8080/",
     "height": 199
    },
    "colab_type": "code",
    "id": "gxDaTW02evfq",
    "outputId": "c2bc8ccc-9d86-4eeb-fc02-1c11fdb754ec"
   },
   "outputs": [
    {
     "data": {
      "text/plain": [
       "array([[ 3.7051300e+02, -1.7792615e+02,  3.1792740e+01],\n",
       "       [ 4.3943753e-03, -3.0510085e-02,  5.6389971e-03],\n",
       "       [ 1.9001080e-01, -4.2204089e-02,  0.0000000e+00],\n",
       "       [ 5.5245514e+00,  1.9352957e+00, -1.3132188e-01],\n",
       "       [ 0.0000000e+00,  0.0000000e+00,  0.0000000e+00],\n",
       "       [ 0.0000000e+00,  0.0000000e+00,  0.0000000e+00],\n",
       "       [ 0.0000000e+00,  0.0000000e+00,  0.0000000e+00],\n",
       "       [ 0.0000000e+00,  0.0000000e+00,  0.0000000e+00],\n",
       "       [ 0.0000000e+00,  0.0000000e+00,  0.0000000e+00],\n",
       "       [-2.8814811e-03,  0.0000000e+00,  0.0000000e+00]], dtype=float32)"
      ]
     },
     "execution_count": 14,
     "metadata": {},
     "output_type": "execute_result"
    }
   ],
   "source": [
    "# coefficient matrix\n",
    "model.coefficients"
   ]
  },
  {
   "cell_type": "code",
   "execution_count": 15,
   "metadata": {
    "colab": {
     "base_uri": "https://localhost:8080/",
     "height": 35
    },
    "colab_type": "code",
    "id": "YIEnZqhVgWSp",
    "outputId": "4d7decf1-10b2-4e82-b255-18e23dd9d20a"
   },
   "outputs": [
    {
     "data": {
      "text/plain": [
       "['1', 'u0', 'u1', 'u2', 'u0^{2}', 'u0u1', 'u1^{2}', 'u0u2', 'u1u2', 'u2^{2}']"
      ]
     },
     "execution_count": 15,
     "metadata": {},
     "output_type": "execute_result"
    }
   ],
   "source": [
    "# library of nonlinear terms\n",
    "model.descriptions"
   ]
  },
  {
   "cell_type": "markdown",
   "metadata": {},
   "source": [
    "## Test trained model\n",
    "\n",
    "We will set latest record in Japan as initial condition and predict Japan's future infections using the model we just trained "
   ]
  },
  {
   "cell_type": "code",
   "execution_count": 16,
   "metadata": {
    "colab": {},
    "colab_type": "code",
    "id": "Gyj0TfTrgWXz"
   },
   "outputs": [],
   "source": [
    "# manually build ode function using obtained coefficient\n",
    "def dxdt(x, t):\n",
    "  dx1 = 7.9984662e+02 + (-3.2379520e-01*x[0]) + (-1.6269997e+01*x[1]) +  1.5485686e+01*x[2] + 3.5516437e-02*(x[2]**2)\n",
    "  dx2 = 1.4988913e+01 + 6.0601331e-02*x[0] + 1.1709479e-01*x[1] + (-1.8800216*x[2])\n",
    "  dx3 = 5.4111018 + (-2.9132338e-02*x[1]) + 1.7136915e-01*x[2]\n",
    "  return [dx1, dx2, dx3]"
   ]
  },
  {
   "cell_type": "markdown",
   "metadata": {},
   "source": [
    "### Use latest record in Japan as initial value"
   ]
  },
  {
   "cell_type": "code",
   "execution_count": 21,
   "metadata": {
    "colab": {},
    "colab_type": "code",
    "id": "embh5TXTiKd1"
   },
   "outputs": [],
   "source": [
    "test_xc = df_train_c[df_train_c[\"Country/Region\"] == \"Spain\"].values[0, -1]\n",
    "test_xd = df_train_d[df_train_d[\"Country/Region\"] == \"Spain\"].values[0, -1]\n",
    "test_xr = df_train_r[df_train_r[\"Country/Region\"] == \"Spain\"].values[0, -1]\n",
    "test_x0 = np.array([test_xc, test_xd, test_xr])"
   ]
  },
  {
   "cell_type": "code",
   "execution_count": 22,
   "metadata": {
    "colab": {},
    "colab_type": "code",
    "id": "v2vpCeNYiKg6"
   },
   "outputs": [],
   "source": [
    "t = np.linspace(0, 30, 100)"
   ]
  },
  {
   "cell_type": "code",
   "execution_count": 23,
   "metadata": {
    "colab": {},
    "colab_type": "code",
    "id": "BR5JIFeFgWWd"
   },
   "outputs": [],
   "source": [
    "sol = odeint(dxdt, test_x0, t)"
   ]
  },
  {
   "cell_type": "markdown",
   "metadata": {},
   "source": [
    "### Visualize the predicted result (Japan)"
   ]
  },
  {
   "cell_type": "code",
   "execution_count": 24,
   "metadata": {
    "colab": {
     "base_uri": "https://localhost:8080/",
     "height": 283
    },
    "colab_type": "code",
    "id": "39FU9l6Sidf-",
    "outputId": "a05445c8-f5c8-4fb0-d1c8-b5d9589915aa"
   },
   "outputs": [
    {
     "data": {
      "text/plain": [
       "<matplotlib.legend.Legend at 0x7fed3bf8d2e8>"
      ]
     },
     "execution_count": 24,
     "metadata": {},
     "output_type": "execute_result"
    },
    {
     "data": {
      "image/png": "[encoded data removed]",
      "text/plain": [
       "<Figure size 432x288 with 1 Axes>"
      ]
     },
     "metadata": {
      "needs_background": "light"
     },
     "output_type": "display_data"
    }
   ],
   "source": [
    "plt.plot(sol)\n",
    "plt.grid()\n",
    "plt.legend([\"confirmed\", \"death\", \"recovered\"])"
   ]
  },
  {
   "cell_type": "code",
   "execution_count": 0,
   "metadata": {
    "colab": {},
    "colab_type": "code",
    "id": "Ryi4H5obidi_"
   },
   "outputs": [],
   "source": []
  },
  {
   "cell_type": "code",
   "execution_count": 0,
   "metadata": {
    "colab": {},
    "colab_type": "code",
    "id": "pzigLPYfidl0"
   },
   "outputs": [],
   "source": []
  }
 ],
 "metadata": {
  "colab": {
   "collapsed_sections": [],
   "name": "Welcome To Colaboratory",
   "provenance": [],
   "toc_visible": true
  },
  "kernelspec": {
   "display_name": "Python 3",
   "language": "python",
   "name": "python3"
  },
  "language_info": {
   "codemirror_mode": {
    "name": "ipython",
    "version": 3
   },
   "file_extension": ".py",
   "mimetype": "text/x-python",
   "name": "python",
   "nbconvert_exporter": "python",
   "pygments_lexer": "ipython3",
   "version": "3.6.8"
  }
 },
 "nbformat": 4,
 "nbformat_minor": 1
}
